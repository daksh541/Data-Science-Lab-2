{
  "cells": [
    {
      "cell_type": "markdown",
      "id": "6afc3208-1ff4-4042-b78b-a0c295da274a",
      "metadata": {
        "id": "6afc3208-1ff4-4042-b78b-a0c295da274a"
      },
      "source": [
        "### Perform various data preprocessing techniques like handling missing data and feature scaling."
      ]
    },
    {
      "cell_type": "markdown",
      "id": "6eff2117-8474-49a1-b110-b2f24b7b6e13",
      "metadata": {
        "id": "6eff2117-8474-49a1-b110-b2f24b7b6e13"
      },
      "source": [
        "#### step 1: Start by importing the necessary Python libraries for data preprocessing.\n"
      ]
    },
    {
      "cell_type": "code",
      "execution_count": null,
      "id": "e451344d-0f8e-46aa-9b43-ebb7e2addfbd",
      "metadata": {
        "id": "e451344d-0f8e-46aa-9b43-ebb7e2addfbd"
      },
      "outputs": [],
      "source": [
        "import pandas as pd\n",
        "import numpy as np\n",
        "from sklearn.preprocessing import StandardScaler, MinMaxScaler"
      ]
    },
    {
      "cell_type": "markdown",
      "id": "fac9560b-1b46-4e27-92aa-98098e292d23",
      "metadata": {
        "id": "fac9560b-1b46-4e27-92aa-98098e292d23"
      },
      "source": [
        "#### Step 2: Load the placement dataset into a Pandas Dataframe."
      ]
    },
    {
      "cell_type": "code",
      "execution_count": null,
      "id": "9c82f185-426d-4d70-b74d-d06a11306492",
      "metadata": {
        "id": "9c82f185-426d-4d70-b74d-d06a11306492"
      },
      "outputs": [],
      "source": []
    },
    {
      "cell_type": "markdown",
      "id": "28b184ae-6e01-44d7-829d-11b3e9f0375f",
      "metadata": {
        "id": "28b184ae-6e01-44d7-829d-11b3e9f0375f"
      },
      "source": [
        "#### Step 3:Take a quick look at the data to understand its structure and identify any missing values or anomalies."
      ]
    },
    {
      "cell_type": "code",
      "execution_count": null,
      "id": "8aceae47-8c25-4b9e-b77d-c902b464458f",
      "metadata": {
        "id": "8aceae47-8c25-4b9e-b77d-c902b464458f"
      },
      "outputs": [],
      "source": []
    },
    {
      "cell_type": "markdown",
      "id": "5e3199a3-53be-4b3e-8377-1a4f004464c7",
      "metadata": {
        "id": "5e3199a3-53be-4b3e-8377-1a4f004464c7"
      },
      "source": [
        "#### The method isnull() checks each element in the DataFrame (or Series) to see if it is NaN (Not a Number) or None (missing value).\n",
        "It returns a DataFrame (or Series) of the same shape as the input, with Boolean values:\n",
        "#### True: The value is null (NaN or None).\n",
        "#### False: The value is not null."
      ]
    },
    {
      "cell_type": "code",
      "execution_count": null,
      "id": "e39c2d2f-5d43-47b5-9a55-a6d7de8042b4",
      "metadata": {
        "id": "e39c2d2f-5d43-47b5-9a55-a6d7de8042b4"
      },
      "outputs": [],
      "source": []
    },
    {
      "cell_type": "markdown",
      "id": "a9eab167-59db-444c-914b-babf9b4787b4",
      "metadata": {
        "id": "a9eab167-59db-444c-914b-babf9b4787b4"
      },
      "source": [
        "#### Step 4: Handle Missing Data\n",
        "#### Option 1: If the dataset is large and only a small percentage of data is missing, you can remove rows with missing values using dropna(subset,inplace)\n"
      ]
    },
    {
      "cell_type": "code",
      "execution_count": null,
      "id": "4f2b7dd2-f510-4845-81e9-0490a1067a0b",
      "metadata": {
        "id": "4f2b7dd2-f510-4845-81e9-0490a1067a0b"
      },
      "outputs": [],
      "source": []
    },
    {
      "cell_type": "markdown",
      "id": "a1225761-3c2c-42ad-bac1-967483ea586c",
      "metadata": {
        "id": "a1225761-3c2c-42ad-bac1-967483ea586c"
      },
      "source": [
        "#### Option 2:If removing data isn't ideal, you can impute (df.[\"\"].fillna(df[\"\"].mean(),inplace)) missing values using methods like mean, median, or most frequent."
      ]
    },
    {
      "cell_type": "code",
      "execution_count": null,
      "id": "8f07f657-0e3d-488f-9d75-495a427483b1",
      "metadata": {
        "id": "8f07f657-0e3d-488f-9d75-495a427483b1"
      },
      "outputs": [],
      "source": []
    },
    {
      "cell_type": "markdown",
      "id": "2edcbe50-a598-4d95-9245-124563d11103",
      "metadata": {
        "id": "2edcbe50-a598-4d95-9245-124563d11103"
      },
      "source": [
        "#### Step 5: Feature Scaling\n",
        "\n",
        "\n",
        "<img src=\"https://i.postimg.cc/G21gMYnF/f.png\" alt=\"Image Description\" width=\"500\">\n",
        "\n",
        "\n",
        "\n",
        "\n",
        "\n",
        "\n",
        "\n",
        "\n",
        "\n",
        " Option 1: This method scales the data to have a mean of 0 and a standard deviation of 1.\n",
        "### StandardScaler()"
      ]
    },
    {
      "cell_type": "code",
      "execution_count": null,
      "id": "efd8eb42-ccf7-4867-9772-d914b3504b39",
      "metadata": {
        "id": "efd8eb42-ccf7-4867-9772-d914b3504b39"
      },
      "outputs": [],
      "source": [
        "\n"
      ]
    },
    {
      "cell_type": "markdown",
      "id": "d8974447-b707-4b00-bc1b-f395c6167345",
      "metadata": {
        "id": "d8974447-b707-4b00-bc1b-f395c6167345"
      },
      "source": [
        "#### Option 2:This method scales the data to a fixed range, usually between 0 and 1.\n",
        "###  MinMaxScaler()"
      ]
    },
    {
      "cell_type": "code",
      "execution_count": null,
      "id": "c446eae2-f4af-4ab1-8b43-0e347581e9a8",
      "metadata": {
        "id": "c446eae2-f4af-4ab1-8b43-0e347581e9a8"
      },
      "outputs": [],
      "source": []
    },
    {
      "cell_type": "markdown",
      "id": "7b341c0e-7aa3-48c3-84c4-9ef8a5139fad",
      "metadata": {
        "id": "7b341c0e-7aa3-48c3-84c4-9ef8a5139fad"
      },
      "source": [
        "####  Step 6:Separate the dataset into features (X) and target (y) variables. The target is usually the column you want to predict."
      ]
    },
    {
      "cell_type": "code",
      "execution_count": null,
      "id": "3b19d23c-5efe-4615-8c4d-63d435d94b25",
      "metadata": {
        "id": "3b19d23c-5efe-4615-8c4d-63d435d94b25"
      },
      "outputs": [],
      "source": []
    },
    {
      "cell_type": "markdown",
      "id": "88524422-4dcc-4cb0-9cb7-d9b4d8ab851a",
      "metadata": {
        "id": "88524422-4dcc-4cb0-9cb7-d9b4d8ab851a"
      },
      "source": [
        "\n",
        "### Step 7: After preprocessing, save the cleaned and scaled dataset to a new CSV file\n"
      ]
    },
    {
      "cell_type": "code",
      "execution_count": null,
      "id": "nvnJZfIFDexK",
      "metadata": {
        "id": "nvnJZfIFDexK"
      },
      "outputs": [],
      "source": [
        "# Lab-1 Activities\n",
        "\n",
        "#Perform data preprocesing for Automobile.csv\n",
        "\n",
        "#i. Delete the column horsepower since it has few missing values\n",
        "\n",
        "#ii. Impute missing with meadin\n",
        "\n",
        "#iii. Apply min-max scaling and standardization on the Automobiles.csv and provide the reasoning which feature scaling method make more sense to this dataset."
      ]
    }
  ],
  "metadata": {
    "colab": {
      "provenance": []
    },
    "kernelspec": {
      "display_name": "Python 3 (ipykernel)",
      "language": "python",
      "name": "python3"
    },
    "language_info": {
      "codemirror_mode": {
        "name": "ipython",
        "version": 3
      },
      "file_extension": ".py",
      "mimetype": "text/x-python",
      "name": "python",
      "nbconvert_exporter": "python",
      "pygments_lexer": "ipython3",
      "version": "3.8.20"
    }
  },
  "nbformat": 4,
  "nbformat_minor": 5
}