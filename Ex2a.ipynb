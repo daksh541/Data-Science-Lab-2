{
 "cells": [
  {
   "cell_type": "markdown",
   "id": "6afc3208-1ff4-4042-b78b-a0c295da274a",
   "metadata": {
    "id": "6afc3208-1ff4-4042-b78b-a0c295da274a"
   },
   "source": [
    "### Perform various data preprocessing techniques like handling missing data and feature scaling."
   ]
  },
  {
   "cell_type": "markdown",
   "id": "6eff2117-8474-49a1-b110-b2f24b7b6e13",
   "metadata": {
    "id": "6eff2117-8474-49a1-b110-b2f24b7b6e13"
   },
   "source": [
    "#### step 1: Start by importing the necessary Python libraries for data preprocessing.\n"
   ]
  },
  {
   "cell_type": "code",
   "execution_count": 180,
   "id": "e451344d-0f8e-46aa-9b43-ebb7e2addfbd",
   "metadata": {
    "id": "e451344d-0f8e-46aa-9b43-ebb7e2addfbd"
   },
   "outputs": [],
   "source": [
    "import pandas as pd\n",
    "import numpy as np\n",
    "from sklearn.preprocessing import StandardScaler, MinMaxScaler"
   ]
  },
  {
   "cell_type": "markdown",
   "id": "fac9560b-1b46-4e27-92aa-98098e292d23",
   "metadata": {
    "id": "fac9560b-1b46-4e27-92aa-98098e292d23"
   },
   "source": [
    "#### Step 2: Load the placement dataset into a Pandas Dataframe."
   ]
  },
  {
   "cell_type": "code",
   "execution_count": 218,
   "id": "9c82f185-426d-4d70-b74d-d06a11306492",
   "metadata": {
    "id": "9c82f185-426d-4d70-b74d-d06a11306492"
   },
   "outputs": [
    {
     "data": {
      "text/html": [
       "<div>\n",
       "<style scoped>\n",
       "    .dataframe tbody tr th:only-of-type {\n",
       "        vertical-align: middle;\n",
       "    }\n",
       "\n",
       "    .dataframe tbody tr th {\n",
       "        vertical-align: top;\n",
       "    }\n",
       "\n",
       "    .dataframe thead th {\n",
       "        text-align: right;\n",
       "    }\n",
       "</style>\n",
       "<table border=\"1\" class=\"dataframe\">\n",
       "  <thead>\n",
       "    <tr style=\"text-align: right;\">\n",
       "      <th></th>\n",
       "      <th>name</th>\n",
       "      <th>mpg</th>\n",
       "      <th>cylinders</th>\n",
       "      <th>displacement</th>\n",
       "      <th>horsepower</th>\n",
       "      <th>weight</th>\n",
       "      <th>acceleration</th>\n",
       "      <th>model_year</th>\n",
       "      <th>origin</th>\n",
       "    </tr>\n",
       "  </thead>\n",
       "  <tbody>\n",
       "    <tr>\n",
       "      <th>0</th>\n",
       "      <td>chevrolet chevelle malibu</td>\n",
       "      <td>18.0</td>\n",
       "      <td>8.0</td>\n",
       "      <td>307.0</td>\n",
       "      <td>130.0</td>\n",
       "      <td>3504.0</td>\n",
       "      <td>12.0</td>\n",
       "      <td>70</td>\n",
       "      <td>usa</td>\n",
       "    </tr>\n",
       "    <tr>\n",
       "      <th>1</th>\n",
       "      <td>buick skylark 320</td>\n",
       "      <td>15.0</td>\n",
       "      <td>8.0</td>\n",
       "      <td>350.0</td>\n",
       "      <td>165.0</td>\n",
       "      <td>3693.0</td>\n",
       "      <td>11.5</td>\n",
       "      <td>70</td>\n",
       "      <td>usa</td>\n",
       "    </tr>\n",
       "    <tr>\n",
       "      <th>2</th>\n",
       "      <td>plymouth satellite</td>\n",
       "      <td>18.0</td>\n",
       "      <td>8.0</td>\n",
       "      <td>318.0</td>\n",
       "      <td>150.0</td>\n",
       "      <td>3436.0</td>\n",
       "      <td>11.0</td>\n",
       "      <td>70</td>\n",
       "      <td>usa</td>\n",
       "    </tr>\n",
       "    <tr>\n",
       "      <th>3</th>\n",
       "      <td>amc rebel sst</td>\n",
       "      <td>16.0</td>\n",
       "      <td>8.0</td>\n",
       "      <td>304.0</td>\n",
       "      <td>150.0</td>\n",
       "      <td>3433.0</td>\n",
       "      <td>12.0</td>\n",
       "      <td>70</td>\n",
       "      <td>usa</td>\n",
       "    </tr>\n",
       "    <tr>\n",
       "      <th>4</th>\n",
       "      <td>ford torino</td>\n",
       "      <td>17.0</td>\n",
       "      <td>NaN</td>\n",
       "      <td>302.0</td>\n",
       "      <td>140.0</td>\n",
       "      <td>3449.0</td>\n",
       "      <td>10.5</td>\n",
       "      <td>70</td>\n",
       "      <td>usa</td>\n",
       "    </tr>\n",
       "  </tbody>\n",
       "</table>\n",
       "</div>"
      ],
      "text/plain": [
       "                        name   mpg  cylinders  displacement  horsepower  \\\n",
       "0  chevrolet chevelle malibu  18.0        8.0         307.0       130.0   \n",
       "1          buick skylark 320  15.0        8.0         350.0       165.0   \n",
       "2         plymouth satellite  18.0        8.0         318.0       150.0   \n",
       "3              amc rebel sst  16.0        8.0         304.0       150.0   \n",
       "4                ford torino  17.0        NaN         302.0       140.0   \n",
       "\n",
       "   weight  acceleration  model_year origin  \n",
       "0  3504.0          12.0          70    usa  \n",
       "1  3693.0          11.5          70    usa  \n",
       "2  3436.0          11.0          70    usa  \n",
       "3  3433.0          12.0          70    usa  \n",
       "4  3449.0          10.5          70    usa  "
      ]
     },
     "execution_count": 218,
     "metadata": {},
     "output_type": "execute_result"
    }
   ],
   "source": [
    "DF=pd.read_csv(\"Automobile.csv\")\n",
    "DF.head()"
   ]
  },
  {
   "cell_type": "markdown",
   "id": "28b184ae-6e01-44d7-829d-11b3e9f0375f",
   "metadata": {
    "id": "28b184ae-6e01-44d7-829d-11b3e9f0375f"
   },
   "source": [
    "#### Step 3:Take a quick look at the data to understand its structure and identify any missing values or anomalies."
   ]
  },
  {
   "cell_type": "code",
   "execution_count": 220,
   "id": "8aceae47-8c25-4b9e-b77d-c902b464458f",
   "metadata": {
    "id": "8aceae47-8c25-4b9e-b77d-c902b464458f"
   },
   "outputs": [
    {
     "name": "stdout",
     "output_type": "stream",
     "text": [
      "<class 'pandas.core.frame.DataFrame'>\n",
      "RangeIndex: 398 entries, 0 to 397\n",
      "Data columns (total 9 columns):\n",
      " #   Column        Non-Null Count  Dtype  \n",
      "---  ------        --------------  -----  \n",
      " 0   name          398 non-null    object \n",
      " 1   mpg           398 non-null    float64\n",
      " 2   cylinders     395 non-null    float64\n",
      " 3   displacement  395 non-null    float64\n",
      " 4   horsepower    386 non-null    float64\n",
      " 5   weight        396 non-null    float64\n",
      " 6   acceleration  395 non-null    float64\n",
      " 7   model_year    398 non-null    int64  \n",
      " 8   origin        398 non-null    object \n",
      "dtypes: float64(6), int64(1), object(2)\n",
      "memory usage: 28.1+ KB\n"
     ]
    },
    {
     "data": {
      "text/plain": [
       "(398, 9)"
      ]
     },
     "execution_count": 220,
     "metadata": {},
     "output_type": "execute_result"
    }
   ],
   "source": [
    "DF.info()\n",
    "DF.shape"
   ]
  },
  {
   "cell_type": "markdown",
   "id": "5e3199a3-53be-4b3e-8377-1a4f004464c7",
   "metadata": {
    "id": "5e3199a3-53be-4b3e-8377-1a4f004464c7"
   },
   "source": [
    "#### The method isnull() checks each element in the DataFrame (or Series) to see if it is NaN (Not a Number) or None (missing value).\n",
    "It returns a DataFrame (or Series) of the same shape as the input, with Boolean values:\n",
    "#### True: The value is null (NaN or None).\n",
    "#### False: The value is not null."
   ]
  },
  {
   "cell_type": "code",
   "execution_count": 222,
   "id": "e39c2d2f-5d43-47b5-9a55-a6d7de8042b4",
   "metadata": {
    "id": "e39c2d2f-5d43-47b5-9a55-a6d7de8042b4"
   },
   "outputs": [
    {
     "data": {
      "text/plain": [
       "name             0\n",
       "mpg              0\n",
       "cylinders        3\n",
       "displacement     3\n",
       "horsepower      12\n",
       "weight           2\n",
       "acceleration     3\n",
       "model_year       0\n",
       "origin           0\n",
       "dtype: int64"
      ]
     },
     "execution_count": 222,
     "metadata": {},
     "output_type": "execute_result"
    }
   ],
   "source": [
    "DF.isnull().sum()\n"
   ]
  },
  {
   "cell_type": "markdown",
   "id": "a9eab167-59db-444c-914b-babf9b4787b4",
   "metadata": {
    "id": "a9eab167-59db-444c-914b-babf9b4787b4"
   },
   "source": [
    "#### Step 4: Handle Missing Data\n",
    "#### Option 1: If the dataset is large and only a small percentage of data is missing, you can remove rows with missing values using dropna(subset,inplace)\n"
   ]
  },
  {
   "cell_type": "code",
   "execution_count": 226,
   "id": "4f2b7dd2-f510-4845-81e9-0490a1067a0b",
   "metadata": {
    "id": "4f2b7dd2-f510-4845-81e9-0490a1067a0b"
   },
   "outputs": [],
   "source": [
    "DF.dropna(subset=[\"acceleration\"],inplace=True)\n"
   ]
  },
  {
   "cell_type": "code",
   "execution_count": 228,
   "id": "8e946ddf-b375-4bd2-ac1a-a9623c9e8b66",
   "metadata": {},
   "outputs": [
    {
     "name": "stdout",
     "output_type": "stream",
     "text": [
      "<class 'pandas.core.frame.DataFrame'>\n",
      "Index: 395 entries, 0 to 397\n",
      "Data columns (total 9 columns):\n",
      " #   Column        Non-Null Count  Dtype  \n",
      "---  ------        --------------  -----  \n",
      " 0   name          395 non-null    object \n",
      " 1   mpg           395 non-null    float64\n",
      " 2   cylinders     392 non-null    float64\n",
      " 3   displacement  392 non-null    float64\n",
      " 4   horsepower    384 non-null    float64\n",
      " 5   weight        393 non-null    float64\n",
      " 6   acceleration  395 non-null    float64\n",
      " 7   model_year    395 non-null    int64  \n",
      " 8   origin        395 non-null    object \n",
      "dtypes: float64(6), int64(1), object(2)\n",
      "memory usage: 30.9+ KB\n"
     ]
    }
   ],
   "source": [
    "DF.info()"
   ]
  },
  {
   "cell_type": "markdown",
   "id": "a1225761-3c2c-42ad-bac1-967483ea586c",
   "metadata": {
    "id": "a1225761-3c2c-42ad-bac1-967483ea586c"
   },
   "source": [
    "#### Option 2:If removing data isn't ideal, you can impute (df.[\"\"].fillna(df[\"\"].mean(),inplace)) missing values using methods like mean, median, or most frequent."
   ]
  },
  {
   "cell_type": "code",
   "execution_count": 230,
   "id": "8f07f657-0e3d-488f-9d75-495a427483b1",
   "metadata": {
    "id": "8f07f657-0e3d-488f-9d75-495a427483b1"
   },
   "outputs": [
    {
     "name": "stdout",
     "output_type": "stream",
     "text": [
      "<class 'pandas.core.frame.DataFrame'>\n",
      "Index: 395 entries, 0 to 397\n",
      "Data columns (total 9 columns):\n",
      " #   Column        Non-Null Count  Dtype  \n",
      "---  ------        --------------  -----  \n",
      " 0   name          395 non-null    object \n",
      " 1   mpg           395 non-null    float64\n",
      " 2   cylinders     395 non-null    float64\n",
      " 3   displacement  392 non-null    float64\n",
      " 4   horsepower    395 non-null    float64\n",
      " 5   weight        393 non-null    float64\n",
      " 6   acceleration  395 non-null    float64\n",
      " 7   model_year    395 non-null    int64  \n",
      " 8   origin        395 non-null    object \n",
      "dtypes: float64(6), int64(1), object(2)\n",
      "memory usage: 30.9+ KB\n"
     ]
    },
    {
     "name": "stderr",
     "output_type": "stream",
     "text": [
      "/var/folders/51/rbx8_yyn637grpkxq5p79n9m0000gn/T/ipykernel_5980/4019186795.py:1: FutureWarning: A value is trying to be set on a copy of a DataFrame or Series through chained assignment using an inplace method.\n",
      "The behavior will change in pandas 3.0. This inplace method will never work because the intermediate object on which we are setting values always behaves as a copy.\n",
      "\n",
      "For example, when doing 'df[col].method(value, inplace=True)', try using 'df.method({col: value}, inplace=True)' or df[col] = df[col].method(value) instead, to perform the operation inplace on the original object.\n",
      "\n",
      "\n",
      "  DF[\"cylinders\"].fillna(DF[\"cylinders\"].mean(),inplace=True)\n",
      "/var/folders/51/rbx8_yyn637grpkxq5p79n9m0000gn/T/ipykernel_5980/4019186795.py:2: FutureWarning: A value is trying to be set on a copy of a DataFrame or Series through chained assignment using an inplace method.\n",
      "The behavior will change in pandas 3.0. This inplace method will never work because the intermediate object on which we are setting values always behaves as a copy.\n",
      "\n",
      "For example, when doing 'df[col].method(value, inplace=True)', try using 'df.method({col: value}, inplace=True)' or df[col] = df[col].method(value) instead, to perform the operation inplace on the original object.\n",
      "\n",
      "\n",
      "  DF[\"horsepower\"].fillna(DF[\"horsepower\"].mean(),inplace=True)\n",
      "/var/folders/51/rbx8_yyn637grpkxq5p79n9m0000gn/T/ipykernel_5980/4019186795.py:3: FutureWarning: A value is trying to be set on a copy of a DataFrame or Series through chained assignment using an inplace method.\n",
      "The behavior will change in pandas 3.0. This inplace method will never work because the intermediate object on which we are setting values always behaves as a copy.\n",
      "\n",
      "For example, when doing 'df[col].method(value, inplace=True)', try using 'df.method({col: value}, inplace=True)' or df[col] = df[col].method(value) instead, to perform the operation inplace on the original object.\n",
      "\n",
      "\n",
      "  DF[\"model_year\"].fillna(DF[\"model_year\"].mean(),inplace=True)\n"
     ]
    }
   ],
   "source": [
    "DF[\"cylinders\"].fillna(DF[\"cylinders\"].mean(),inplace=True)\n",
    "DF[\"horsepower\"].fillna(DF[\"horsepower\"].mean(),inplace=True)\n",
    "DF[\"model_year\"].fillna(DF[\"model_year\"].mean(),inplace=True)\n",
    "DF.info()"
   ]
  },
  {
   "cell_type": "markdown",
   "id": "2edcbe50-a598-4d95-9245-124563d11103",
   "metadata": {
    "id": "2edcbe50-a598-4d95-9245-124563d11103"
   },
   "source": [
    "#### Step 5: Feature Scaling\n",
    "\n",
    "\n",
    "<img src=\"https://i.postimg.cc/G21gMYnF/f.png\" alt=\"Image Description\" width=\"500\">\n",
    "\n",
    "\n",
    "\n",
    "\n",
    "\n",
    "\n",
    "\n",
    "\n",
    "\n",
    " Option 1: This method scales the data to have a mean of 0 and a standard deviation of 1.\n",
    "### StandardScaler()"
   ]
  },
  {
   "cell_type": "code",
   "execution_count": 232,
   "id": "efd8eb42-ccf7-4867-9772-d914b3504b39",
   "metadata": {
    "id": "efd8eb42-ccf7-4867-9772-d914b3504b39"
   },
   "outputs": [
    {
     "data": {
      "text/html": [
       "<div>\n",
       "<style scoped>\n",
       "    .dataframe tbody tr th:only-of-type {\n",
       "        vertical-align: middle;\n",
       "    }\n",
       "\n",
       "    .dataframe tbody tr th {\n",
       "        vertical-align: top;\n",
       "    }\n",
       "\n",
       "    .dataframe thead th {\n",
       "        text-align: right;\n",
       "    }\n",
       "</style>\n",
       "<table border=\"1\" class=\"dataframe\">\n",
       "  <thead>\n",
       "    <tr style=\"text-align: right;\">\n",
       "      <th></th>\n",
       "      <th>name</th>\n",
       "      <th>mpg</th>\n",
       "      <th>cylinders</th>\n",
       "      <th>displacement</th>\n",
       "      <th>horsepower</th>\n",
       "      <th>weight</th>\n",
       "      <th>acceleration</th>\n",
       "      <th>model_year</th>\n",
       "      <th>origin</th>\n",
       "    </tr>\n",
       "  </thead>\n",
       "  <tbody>\n",
       "    <tr>\n",
       "      <th>0</th>\n",
       "      <td>chevrolet chevelle malibu</td>\n",
       "      <td>-0.701885</td>\n",
       "      <td>1.507356e+00</td>\n",
       "      <td>1.083590</td>\n",
       "      <td>130.0</td>\n",
       "      <td>3504.0</td>\n",
       "      <td>12.0</td>\n",
       "      <td>-1.642521</td>\n",
       "      <td>usa</td>\n",
       "    </tr>\n",
       "    <tr>\n",
       "      <th>1</th>\n",
       "      <td>buick skylark 320</td>\n",
       "      <td>-1.085384</td>\n",
       "      <td>1.507356e+00</td>\n",
       "      <td>1.495293</td>\n",
       "      <td>165.0</td>\n",
       "      <td>3693.0</td>\n",
       "      <td>11.5</td>\n",
       "      <td>-1.642521</td>\n",
       "      <td>usa</td>\n",
       "    </tr>\n",
       "    <tr>\n",
       "      <th>2</th>\n",
       "      <td>plymouth satellite</td>\n",
       "      <td>-0.701885</td>\n",
       "      <td>1.507356e+00</td>\n",
       "      <td>1.188909</td>\n",
       "      <td>150.0</td>\n",
       "      <td>3436.0</td>\n",
       "      <td>11.0</td>\n",
       "      <td>-1.642521</td>\n",
       "      <td>usa</td>\n",
       "    </tr>\n",
       "    <tr>\n",
       "      <th>3</th>\n",
       "      <td>amc rebel sst</td>\n",
       "      <td>-0.957551</td>\n",
       "      <td>1.507356e+00</td>\n",
       "      <td>1.054866</td>\n",
       "      <td>150.0</td>\n",
       "      <td>3433.0</td>\n",
       "      <td>12.0</td>\n",
       "      <td>-1.642521</td>\n",
       "      <td>usa</td>\n",
       "    </tr>\n",
       "    <tr>\n",
       "      <th>4</th>\n",
       "      <td>ford torino</td>\n",
       "      <td>-0.829718</td>\n",
       "      <td>5.253353e-16</td>\n",
       "      <td>1.035718</td>\n",
       "      <td>140.0</td>\n",
       "      <td>3449.0</td>\n",
       "      <td>10.5</td>\n",
       "      <td>-1.642521</td>\n",
       "      <td>usa</td>\n",
       "    </tr>\n",
       "  </tbody>\n",
       "</table>\n",
       "</div>"
      ],
      "text/plain": [
       "                        name       mpg     cylinders  displacement  \\\n",
       "0  chevrolet chevelle malibu -0.701885  1.507356e+00      1.083590   \n",
       "1          buick skylark 320 -1.085384  1.507356e+00      1.495293   \n",
       "2         plymouth satellite -0.701885  1.507356e+00      1.188909   \n",
       "3              amc rebel sst -0.957551  1.507356e+00      1.054866   \n",
       "4                ford torino -0.829718  5.253353e-16      1.035718   \n",
       "\n",
       "   horsepower  weight  acceleration  model_year origin  \n",
       "0       130.0  3504.0          12.0   -1.642521    usa  \n",
       "1       165.0  3693.0          11.5   -1.642521    usa  \n",
       "2       150.0  3436.0          11.0   -1.642521    usa  \n",
       "3       150.0  3433.0          12.0   -1.642521    usa  \n",
       "4       140.0  3449.0          10.5   -1.642521    usa  "
      ]
     },
     "execution_count": 232,
     "metadata": {},
     "output_type": "execute_result"
    }
   ],
   "source": [
    "c=[\"cylinders\",\"displacement\",\"model_year\",\"mpg\"]\n",
    "SC1=StandardScaler()\n",
    "DF[c]=SC1.fit_transform(DF[c])\n",
    "DF.head()"
   ]
  },
  {
   "cell_type": "markdown",
   "id": "d8974447-b707-4b00-bc1b-f395c6167345",
   "metadata": {
    "id": "d8974447-b707-4b00-bc1b-f395c6167345"
   },
   "source": [
    "#### Option 2:This method scales the data to a fixed range, usually between 0 and 1.\n",
    "###  MinMaxScaler()"
   ]
  },
  {
   "cell_type": "code",
   "execution_count": 234,
   "id": "c446eae2-f4af-4ab1-8b43-0e347581e9a8",
   "metadata": {
    "id": "c446eae2-f4af-4ab1-8b43-0e347581e9a8"
   },
   "outputs": [
    {
     "data": {
      "text/html": [
       "<div>\n",
       "<style scoped>\n",
       "    .dataframe tbody tr th:only-of-type {\n",
       "        vertical-align: middle;\n",
       "    }\n",
       "\n",
       "    .dataframe tbody tr th {\n",
       "        vertical-align: top;\n",
       "    }\n",
       "\n",
       "    .dataframe thead th {\n",
       "        text-align: right;\n",
       "    }\n",
       "</style>\n",
       "<table border=\"1\" class=\"dataframe\">\n",
       "  <thead>\n",
       "    <tr style=\"text-align: right;\">\n",
       "      <th></th>\n",
       "      <th>name</th>\n",
       "      <th>mpg</th>\n",
       "      <th>cylinders</th>\n",
       "      <th>displacement</th>\n",
       "      <th>horsepower</th>\n",
       "      <th>weight</th>\n",
       "      <th>acceleration</th>\n",
       "      <th>model_year</th>\n",
       "      <th>origin</th>\n",
       "    </tr>\n",
       "  </thead>\n",
       "  <tbody>\n",
       "    <tr>\n",
       "      <th>0</th>\n",
       "      <td>chevrolet chevelle malibu</td>\n",
       "      <td>0.239362</td>\n",
       "      <td>1.000000</td>\n",
       "      <td>0.617571</td>\n",
       "      <td>130.0</td>\n",
       "      <td>3504.0</td>\n",
       "      <td>12.0</td>\n",
       "      <td>0.0</td>\n",
       "      <td>usa</td>\n",
       "    </tr>\n",
       "    <tr>\n",
       "      <th>1</th>\n",
       "      <td>buick skylark 320</td>\n",
       "      <td>0.159574</td>\n",
       "      <td>1.000000</td>\n",
       "      <td>0.728682</td>\n",
       "      <td>165.0</td>\n",
       "      <td>3693.0</td>\n",
       "      <td>11.5</td>\n",
       "      <td>0.0</td>\n",
       "      <td>usa</td>\n",
       "    </tr>\n",
       "    <tr>\n",
       "      <th>2</th>\n",
       "      <td>plymouth satellite</td>\n",
       "      <td>0.239362</td>\n",
       "      <td>1.000000</td>\n",
       "      <td>0.645995</td>\n",
       "      <td>150.0</td>\n",
       "      <td>3436.0</td>\n",
       "      <td>11.0</td>\n",
       "      <td>0.0</td>\n",
       "      <td>usa</td>\n",
       "    </tr>\n",
       "    <tr>\n",
       "      <th>3</th>\n",
       "      <td>amc rebel sst</td>\n",
       "      <td>0.186170</td>\n",
       "      <td>1.000000</td>\n",
       "      <td>0.609819</td>\n",
       "      <td>150.0</td>\n",
       "      <td>3433.0</td>\n",
       "      <td>12.0</td>\n",
       "      <td>0.0</td>\n",
       "      <td>usa</td>\n",
       "    </tr>\n",
       "    <tr>\n",
       "      <th>4</th>\n",
       "      <td>ford torino</td>\n",
       "      <td>0.212766</td>\n",
       "      <td>0.490306</td>\n",
       "      <td>0.604651</td>\n",
       "      <td>140.0</td>\n",
       "      <td>3449.0</td>\n",
       "      <td>10.5</td>\n",
       "      <td>0.0</td>\n",
       "      <td>usa</td>\n",
       "    </tr>\n",
       "  </tbody>\n",
       "</table>\n",
       "</div>"
      ],
      "text/plain": [
       "                        name       mpg  cylinders  displacement  horsepower  \\\n",
       "0  chevrolet chevelle malibu  0.239362   1.000000      0.617571       130.0   \n",
       "1          buick skylark 320  0.159574   1.000000      0.728682       165.0   \n",
       "2         plymouth satellite  0.239362   1.000000      0.645995       150.0   \n",
       "3              amc rebel sst  0.186170   1.000000      0.609819       150.0   \n",
       "4                ford torino  0.212766   0.490306      0.604651       140.0   \n",
       "\n",
       "   weight  acceleration  model_year origin  \n",
       "0  3504.0          12.0         0.0    usa  \n",
       "1  3693.0          11.5         0.0    usa  \n",
       "2  3436.0          11.0         0.0    usa  \n",
       "3  3433.0          12.0         0.0    usa  \n",
       "4  3449.0          10.5         0.0    usa  "
      ]
     },
     "execution_count": 234,
     "metadata": {},
     "output_type": "execute_result"
    }
   ],
   "source": [
    "c=[\"cylinders\",\"displacement\",\"model_year\",\"mpg\"]\n",
    "SC2=MinMaxScaler()\n",
    "DF[c]=SC2.fit_transform(DF[c])\n",
    "DF.head()"
   ]
  },
  {
   "cell_type": "markdown",
   "id": "7b341c0e-7aa3-48c3-84c4-9ef8a5139fad",
   "metadata": {
    "id": "7b341c0e-7aa3-48c3-84c4-9ef8a5139fad"
   },
   "source": [
    "####  Step 6:Separate the dataset into features (X) and target (y) variables. The target is usually the column you want to predict."
   ]
  },
  {
   "cell_type": "code",
   "execution_count": 238,
   "id": "3b19d23c-5efe-4615-8c4d-63d435d94b25",
   "metadata": {
    "id": "3b19d23c-5efe-4615-8c4d-63d435d94b25"
   },
   "outputs": [
    {
     "data": {
      "text/plain": [
       "0    12.0\n",
       "1    11.5\n",
       "2    11.0\n",
       "3    12.0\n",
       "4    10.5\n",
       "Name: acceleration, dtype: float64"
      ]
     },
     "execution_count": 238,
     "metadata": {},
     "output_type": "execute_result"
    }
   ],
   "source": [
    "X=DF[[\"name\",\"mpg\",\"cylinders\",\"displacement\",\"horsepower\",\"weight\",\"model_year\",\"origin\"]]\n",
    "Y=DF[\"acceleration\"]\n",
    "Y.head()\n"
   ]
  },
  {
   "cell_type": "markdown",
   "id": "88524422-4dcc-4cb0-9cb7-d9b4d8ab851a",
   "metadata": {
    "id": "88524422-4dcc-4cb0-9cb7-d9b4d8ab851a"
   },
   "source": [
    "\n",
    "### Step 7: After preprocessing, save the cleaned and scaled dataset to a new CSV file\n"
   ]
  },
  {
   "cell_type": "code",
   "execution_count": 240,
   "id": "9a618ee5-1d26-4b74-935d-5b2f4ac85ed2",
   "metadata": {},
   "outputs": [],
   "source": [
    "final=pd.concat([X,Y],axis=1)\n",
    "final.to_csv(\"PreAuto.csv\",index=False)"
   ]
  },
  {
   "cell_type": "code",
   "execution_count": 215,
   "id": "nvnJZfIFDexK",
   "metadata": {
    "id": "nvnJZfIFDexK"
   },
   "outputs": [],
   "source": [
    "# Lab-1 Activities\n",
    "\n",
    "#Perform data preprocesing for Automobile.csv\n",
    "\n",
    "#i. Delete the column horsepower since it has few missing values\n",
    "\n",
    "#ii. Impute missing with meadin\n",
    "\n",
    "#iii. Apply min-max scaling and standardization on the Automobiles.csv and provide the reasoning which feature scaling method make more sense to this dataset."
   ]
  },
  {
   "cell_type": "code",
   "execution_count": null,
   "id": "ed61b615-726d-4384-8d90-f1431599eb16",
   "metadata": {},
   "outputs": [],
   "source": []
  }
 ],
 "metadata": {
  "colab": {
   "provenance": []
  },
  "kernelspec": {
   "display_name": "Python 3 (ipykernel)",
   "language": "python",
   "name": "python3"
  },
  "language_info": {
   "codemirror_mode": {
    "name": "ipython",
    "version": 3
   },
   "file_extension": ".py",
   "mimetype": "text/x-python",
   "name": "python",
   "nbconvert_exporter": "python",
   "pygments_lexer": "ipython3",
   "version": "3.12.2"
  }
 },
 "nbformat": 4,
 "nbformat_minor": 5
}
